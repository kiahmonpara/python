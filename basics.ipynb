{
 "cells": [
  {
   "cell_type": "code",
   "execution_count": 1,
   "id": "b1f0a6bc-b6e6-4f48-9e25-6f877ae4c03e",
   "metadata": {},
   "outputs": [],
   "source": [
    "#single line comment"
   ]
  },
  {
   "cell_type": "code",
   "execution_count": 2,
   "id": "29b20b63-4fe6-4996-83d6-d4d87335c27b",
   "metadata": {},
   "outputs": [
    {
     "data": {
      "text/plain": [
       "'\\ndocstring or\\nmultiline\\n'"
      ]
     },
     "execution_count": 2,
     "metadata": {},
     "output_type": "execute_result"
    }
   ],
   "source": [
    "'''\n",
    "docstring or\n",
    "multiline\n",
    "'''"
   ]
  },
  {
   "cell_type": "code",
   "execution_count": 3,
   "id": "a2719b10-c82f-4514-8719-0a21dd0592f0",
   "metadata": {},
   "outputs": [],
   "source": [
    "x=1  #int\n",
    "y=2.5  #float\n",
    "name='kiah'  #string, single/double quotes\n",
    "is_cool= True #boolean, first letter should be capital\n"
   ]
  },
  {
   "cell_type": "code",
   "execution_count": 4,
   "id": "519d113a-a942-45a5-8ec3-2151cab73b51",
   "metadata": {},
   "outputs": [],
   "source": [
    "#multiple assignment\n",
    "x,y,name,is_cool=(1,2.5,'kiah',True)"
   ]
  },
  {
   "cell_type": "code",
   "execution_count": 5,
   "id": "38d4469c-d8a1-40bd-b23b-b82ee4df2446",
   "metadata": {},
   "outputs": [
    {
     "name": "stdout",
     "output_type": "stream",
     "text": [
      "Hello 1 2.5 kiah True\n"
     ]
    }
   ],
   "source": [
    "print('Hello',x,y,name,is_cool)"
   ]
  },
  {
   "cell_type": "code",
   "execution_count": 6,
   "id": "42401bcb-57df-49bc-8c15-20775f4675e0",
   "metadata": {},
   "outputs": [
    {
     "name": "stdout",
     "output_type": "stream",
     "text": [
      "3.5\n"
     ]
    }
   ],
   "source": [
    "a=x+y\n",
    "print (a)"
   ]
  },
  {
   "cell_type": "code",
   "execution_count": 7,
   "id": "93bdd372-424a-4b33-85f2-4edd1a0f24fa",
   "metadata": {},
   "outputs": [
    {
     "name": "stdout",
     "output_type": "stream",
     "text": [
      "<class 'int'>\n",
      "<class 'str'>\n"
     ]
    }
   ],
   "source": [
    "print(type(x))\n",
    "x=str(x)\n",
    "print(type(x))"
   ]
  },
  {
   "cell_type": "code",
   "execution_count": 8,
   "id": "2b866398-3dcb-4dda-88f1-1cb0d7d6c4dd",
   "metadata": {},
   "outputs": [
    {
     "name": "stdout",
     "output_type": "stream",
     "text": [
      "<class 'int'> 2\n",
      "2.0\n"
     ]
    }
   ],
   "source": [
    "y=int(y)\n",
    "print(type(y),y)\n",
    "z=float(y)\n",
    "print(z)"
   ]
  },
  {
   "cell_type": "code",
   "execution_count": 9,
   "id": "55f4ef07-5ceb-4381-97b6-addeebbe71ab",
   "metadata": {},
   "outputs": [],
   "source": [
    "#STRINGS"
   ]
  },
  {
   "cell_type": "code",
   "execution_count": 10,
   "id": "0c12fd29-d7e4-4908-86e5-f55439189223",
   "metadata": {},
   "outputs": [
    {
     "name": "stdout",
     "output_type": "stream",
     "text": [
      "Hello, my name is kiah and i am 19\n",
      "Hello my name is kiah and i am 19\n"
     ]
    }
   ],
   "source": [
    "name='kiah'\n",
    "age=19\n",
    "\n",
    "#concatenate\n",
    "print('Hello, my name is '+name+' and i am '+str(age))\n",
    "#arguments by position\n",
    "print('Hello my name is {name} and i am {age}'.format(name=name,age=age))"
   ]
  },
  {
   "cell_type": "code",
   "execution_count": 11,
   "id": "65501cd5-faa3-4039-8ad3-64dabdd80e2f",
   "metadata": {},
   "outputs": [
    {
     "name": "stdout",
     "output_type": "stream",
     "text": [
      "hello my name is kiah and i am 19\n"
     ]
    }
   ],
   "source": [
    "#f strings\n",
    "print(f'hello my name is {name} and i am {age}')"
   ]
  },
  {
   "cell_type": "code",
   "execution_count": 12,
   "id": "05508539-894b-4da7-a711-6a3db4f0cae9",
   "metadata": {},
   "outputs": [
    {
     "name": "stdout",
     "output_type": "stream",
     "text": [
      "Hello world\n",
      "HELLO WORLD\n",
      "hello world\n",
      "HELLO wORLD\n",
      "11\n",
      "hello everyone\n",
      "3\n",
      "True\n",
      "False\n",
      "['hello', 'World']\n",
      "6\n",
      "False\n",
      "False\n",
      "True\n",
      "True\n"
     ]
    }
   ],
   "source": [
    "s='hello World'\n",
    "\n",
    "print(s.capitalize())\n",
    "print(s.upper())\n",
    "print(s.lower())\n",
    "print(s.swapcase())\n",
    "print(len(s))\n",
    "print(s.replace('World','everyone'))\n",
    "print(s.count('l'))\n",
    "print(s.startswith('he'))\n",
    "print(s.endswith('e'))\n",
    "print(s.split())\n",
    "print(s.find('W'))\n",
    "print(s.isalpha())\n",
    "print(s.isnumeric())\n",
    "a='fj3uiy8'\n",
    "print(a.isalnum())\n",
    "b='helloworld'\n",
    "print(b.isalpha())"
   ]
  },
  {
   "cell_type": "code",
   "execution_count": 13,
   "id": "518b04df-fb36-4c7c-a172-6e78920058eb",
   "metadata": {},
   "outputs": [],
   "source": [
    "#LISTS\n",
    "#collection which is ordered and changeable"
   ]
  },
  {
   "cell_type": "code",
   "execution_count": 14,
   "id": "7be3b17e-a341-4d74-b4ed-558c0361163a",
   "metadata": {},
   "outputs": [
    {
     "name": "stdout",
     "output_type": "stream",
     "text": [
      "[1, 2, 3, 4, 5] [1, 2, 3]\n"
     ]
    }
   ],
   "source": [
    "numbers=[1,2,3,4,5]\n",
    "numbers2=list((1,2,3))    #constructors\n",
    "print(numbers,numbers2)"
   ]
  },
  {
   "cell_type": "code",
   "execution_count": 15,
   "id": "c5698d21-4373-46a5-9690-75a524304ce4",
   "metadata": {},
   "outputs": [
    {
     "name": "stdout",
     "output_type": "stream",
     "text": [
      "Grapes\n",
      "4\n",
      "['Apples', 'Grapes', 'pears', 'oranges', 'Mango']\n",
      "['Apples', 'Grapes', 'oranges', 'Mango']\n",
      "['Apples', 'Grapes', 'oranges', 'Strawberry', 'Mango']\n",
      "['Apples', 'oranges', 'Strawberry', 'Mango']\n",
      "['Mango', 'Strawberry', 'oranges', 'Apples']\n",
      "['Apples', 'Mango', 'Strawberry', 'oranges']\n",
      "['oranges', 'Strawberry', 'Mango', 'Apples']\n",
      "['Blueberries', 'Strawberry', 'Mango', 'Apples']\n"
     ]
    }
   ],
   "source": [
    "fruits=['Apples','Grapes','pears','oranges']\n",
    "\n",
    "print(fruits[1])\n",
    "print(len(fruits))\n",
    "fruits.append('Mango')\n",
    "print(fruits)\n",
    "fruits.remove('pears')\n",
    "print(fruits)\n",
    "fruits.insert(3,'Strawberry')\n",
    "print(fruits)\n",
    "fruits.pop(1)\n",
    "print(fruits)\n",
    "fruits.reverse()\n",
    "print(fruits)\n",
    "fruits.sort()\n",
    "print(fruits)\n",
    "fruits.sort(reverse=True)\n",
    "print(fruits)\n",
    "fruits[0]='Blueberries'\n",
    "print(fruits)"
   ]
  },
  {
   "cell_type": "code",
   "execution_count": 16,
   "id": "58005cf8-5a2b-454f-b459-789cadbcc1fc",
   "metadata": {},
   "outputs": [],
   "source": [
    "#TUPLES-ordered and unchangeable"
   ]
  },
  {
   "cell_type": "code",
   "execution_count": 17,
   "id": "fb3ccc9c-f280-4a86-9b73-b6a681f48a24",
   "metadata": {},
   "outputs": [
    {
     "name": "stdout",
     "output_type": "stream",
     "text": [
      "('Apples', 'Grapes', 'pears', 'oranges') ('Apples', 'Grapes', 'pears', 'oranges')\n",
      "4\n"
     ]
    }
   ],
   "source": [
    "fruits=('Apples','Grapes','pears','oranges')\n",
    "fruits2=tuple(('Apples','Grapes','pears','oranges'))\n",
    "print(fruits,fruits2)\n",
    "print(len(fruits))"
   ]
  },
  {
   "cell_type": "code",
   "execution_count": 18,
   "id": "b28c49a3-d83d-4a6c-9916-949a42aecaf4",
   "metadata": {},
   "outputs": [
    {
     "name": "stdout",
     "output_type": "stream",
     "text": [
      "('Apples',) <class 'tuple'>\n"
     ]
    }
   ],
   "source": [
    "fruits=('Apples',)\n",
    "print(fruits, type(fruits))"
   ]
  },
  {
   "cell_type": "code",
   "execution_count": 19,
   "id": "b322d8ce-f3ee-495a-b71f-23d5a8ed7a61",
   "metadata": {},
   "outputs": [
    {
     "ename": "TypeError",
     "evalue": "'tuple' object does not support item assignment",
     "output_type": "error",
     "traceback": [
      "\u001b[1;31m---------------------------------------------------------------------------\u001b[0m",
      "\u001b[1;31mTypeError\u001b[0m                                 Traceback (most recent call last)",
      "Cell \u001b[1;32mIn[19], line 2\u001b[0m\n\u001b[0;32m      1\u001b[0m fruits\u001b[38;5;241m=\u001b[39m(\u001b[38;5;124m'\u001b[39m\u001b[38;5;124mApples\u001b[39m\u001b[38;5;124m'\u001b[39m,\u001b[38;5;124m'\u001b[39m\u001b[38;5;124mGrapes\u001b[39m\u001b[38;5;124m'\u001b[39m)\n\u001b[1;32m----> 2\u001b[0m fruits[\u001b[38;5;241m0\u001b[39m]\u001b[38;5;241m=\u001b[39m\u001b[38;5;124m'\u001b[39m\u001b[38;5;124mpears\u001b[39m\u001b[38;5;124m'\u001b[39m\n",
      "\u001b[1;31mTypeError\u001b[0m: 'tuple' object does not support item assignment"
     ]
    }
   ],
   "source": [
    "fruits=('Apples','Grapes')\n",
    "fruits[0]='pears'"
   ]
  },
  {
   "cell_type": "code",
   "execution_count": 20,
   "id": "9e2113f2-4bfd-4f14-aa33-d6180a86253c",
   "metadata": {},
   "outputs": [
    {
     "ename": "NameError",
     "evalue": "name 'fruits2' is not defined",
     "output_type": "error",
     "traceback": [
      "\u001b[1;31m---------------------------------------------------------------------------\u001b[0m",
      "\u001b[1;31mNameError\u001b[0m                                 Traceback (most recent call last)",
      "Cell \u001b[1;32mIn[20], line 2\u001b[0m\n\u001b[0;32m      1\u001b[0m \u001b[38;5;28;01mdel\u001b[39;00m fruits2\n\u001b[1;32m----> 2\u001b[0m \u001b[38;5;28mprint\u001b[39m(fruits2)\n",
      "\u001b[1;31mNameError\u001b[0m: name 'fruits2' is not defined"
     ]
    }
   ],
   "source": [
    "del fruits2\n",
    "print(fruits2)"
   ]
  },
  {
   "cell_type": "code",
   "execution_count": null,
   "id": "bac34953-8144-42eb-adf2-1a8ed12b31cb",
   "metadata": {},
   "outputs": [],
   "source": [
    "#SET-unordered and unindexed, no duplicate members"
   ]
  },
  {
   "cell_type": "code",
   "execution_count": 21,
   "id": "694b4369-6ff2-44f3-8f1d-6b0afa4a9787",
   "metadata": {},
   "outputs": [
    {
     "name": "stdout",
     "output_type": "stream",
     "text": [
      "{'Blue', 'Red', 'Yellow'}\n",
      "True\n",
      "{'Blue', 'Red', 'Black', 'Yellow'}\n",
      "{'Blue', 'Red', 'Black', 'Yellow'}\n",
      "{'Blue', 'Black', 'Yellow'}\n",
      "set()\n"
     ]
    },
    {
     "ename": "NameError",
     "evalue": "name 'colours' is not defined",
     "output_type": "error",
     "traceback": [
      "\u001b[1;31m---------------------------------------------------------------------------\u001b[0m",
      "\u001b[1;31mNameError\u001b[0m                                 Traceback (most recent call last)",
      "Cell \u001b[1;32mIn[21], line 13\u001b[0m\n\u001b[0;32m     11\u001b[0m \u001b[38;5;28mprint\u001b[39m(colours)\n\u001b[0;32m     12\u001b[0m \u001b[38;5;28;01mdel\u001b[39;00m colours\n\u001b[1;32m---> 13\u001b[0m \u001b[38;5;28mprint\u001b[39m(colours)\n",
      "\u001b[1;31mNameError\u001b[0m: name 'colours' is not defined"
     ]
    }
   ],
   "source": [
    "colours={'Blue','Red','Yellow'}\n",
    "print(colours)\n",
    "print('Blue' in colours)\n",
    "colours.add('Black')\n",
    "print(colours)\n",
    "colours.add('Black') #doesnt add twice\n",
    "print(colours)\n",
    "colours.remove('Red')\n",
    "print(colours)\n",
    "colours.clear()\n",
    "print(colours)\n",
    "del colours\n",
    "print(colours)"
   ]
  },
  {
   "cell_type": "code",
   "execution_count": null,
   "id": "365f0a42-1a8e-49a2-85d3-a890b942d8a6",
   "metadata": {},
   "outputs": [],
   "source": [
    "#DICTIONARIES-unordered,changeable,indexed,no duplicate"
   ]
  },
  {
   "cell_type": "code",
   "execution_count": 22,
   "id": "9831c764-810e-40a6-9213-535fa15b9155",
   "metadata": {},
   "outputs": [
    {
     "name": "stdout",
     "output_type": "stream",
     "text": [
      "{'first_name': 'Kiah', 'last_name': 'Monpara', 'age': 19} <class 'dict'>\n"
     ]
    }
   ],
   "source": [
    "person={\n",
    "    'first_name':'Kiah',\n",
    "    'last_name':'Monpara',\n",
    "    'age':19\n",
    "}\n",
    "\n",
    "print(person,type(person))"
   ]
  },
  {
   "cell_type": "code",
   "execution_count": null,
   "id": "0bf969bf-e843-4816-9a83-cf274a398542",
   "metadata": {},
   "outputs": [],
   "source": [
    "#person2=dict(first_name='Kiah',last_name='Monpara',age=19)\n",
    "#print(person2,type(person2))"
   ]
  },
  {
   "cell_type": "code",
   "execution_count": 23,
   "id": "881aa48f-89b9-470c-a7da-54b4dd48c34b",
   "metadata": {},
   "outputs": [
    {
     "name": "stdout",
     "output_type": "stream",
     "text": [
      "19\n",
      "19\n",
      "{'first_name': 'Kiah', 'last_name': 'Monpara', 'age': 19, 'phone': '12345678'}\n",
      "dict_keys(['first_name', 'last_name', 'age', 'phone'])\n",
      "dict_items([('first_name', 'Kiah'), ('last_name', 'Monpara'), ('age', 19), ('phone', '12345678')])\n"
     ]
    }
   ],
   "source": [
    "print(person['age'])\n",
    "print(person.get('age'))\n",
    "person['phone']='12345678'\n",
    "print(person)\n",
    "print(person.keys())\n",
    "print(person.items())"
   ]
  },
  {
   "cell_type": "code",
   "execution_count": 24,
   "id": "878def45-0fa9-4f47-a3a5-8ce0933686af",
   "metadata": {},
   "outputs": [
    {
     "name": "stdout",
     "output_type": "stream",
     "text": [
      "{'first_name': 'Kiah', 'last_name': 'Monpara', 'age': 19, 'phone': '12345678', 'city': 'mumbai'}\n"
     ]
    }
   ],
   "source": [
    "person2=person.copy()\n",
    "person2['city']='mumbai'\n",
    "print(person2)"
   ]
  },
  {
   "cell_type": "code",
   "execution_count": 25,
   "id": "46a7a60f-ed92-4597-a3e1-a76a2c523e42",
   "metadata": {},
   "outputs": [
    {
     "name": "stdout",
     "output_type": "stream",
     "text": [
      "{'first_name': 'Kiah', 'last_name': 'Monpara'}\n"
     ]
    }
   ],
   "source": [
    "del(person['age'])\n",
    "person.pop('phone')\n",
    "print(person)"
   ]
  },
  {
   "cell_type": "code",
   "execution_count": 26,
   "id": "7a5004fc-79ec-4227-a2e0-cdc7a8d1cabe",
   "metadata": {},
   "outputs": [
    {
     "name": "stdout",
     "output_type": "stream",
     "text": [
      "5\n"
     ]
    }
   ],
   "source": [
    "person.clear()\n",
    "print(len(person2))"
   ]
  },
  {
   "cell_type": "code",
   "execution_count": 28,
   "id": "e6c73474-58d4-4b3e-bf1b-0f2ce1fa1ba4",
   "metadata": {},
   "outputs": [
    {
     "name": "stdout",
     "output_type": "stream",
     "text": [
      "[{'name': 'Kiah', 'age': 19}, {'name': 'advzsv', 'age': 18}]\n"
     ]
    }
   ],
   "source": [
    "#List of dict\n",
    "\n",
    "people=[\n",
    "    {'name':'Kiah','age':19},\n",
    "    {'name':'advzsv','age':18}\n",
    "]\n",
    "print(people)"
   ]
  },
  {
   "cell_type": "code",
   "execution_count": 29,
   "id": "3fbff12d-7a2d-4a13-946b-5ea38c890665",
   "metadata": {},
   "outputs": [
    {
     "name": "stdout",
     "output_type": "stream",
     "text": [
      "Kiah\n"
     ]
    }
   ],
   "source": [
    "print(people[0]['name'])"
   ]
  },
  {
   "cell_type": "code",
   "execution_count": null,
   "id": "fc074362-eb27-43a0-a369-b2f890cf62df",
   "metadata": {},
   "outputs": [],
   "source": []
  }
 ],
 "metadata": {
  "kernelspec": {
   "display_name": "Python 3 (ipykernel)",
   "language": "python",
   "name": "python3"
  },
  "language_info": {
   "codemirror_mode": {
    "name": "ipython",
    "version": 3
   },
   "file_extension": ".py",
   "mimetype": "text/x-python",
   "name": "python",
   "nbconvert_exporter": "python",
   "pygments_lexer": "ipython3",
   "version": "3.11.7"
  }
 },
 "nbformat": 4,
 "nbformat_minor": 5
}
