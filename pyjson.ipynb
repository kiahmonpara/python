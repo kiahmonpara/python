{
 "cells": [
  {
   "cell_type": "code",
   "execution_count": 1,
   "id": "53d9b9c9-3065-4889-b9ed-7bbb63a1cc6e",
   "metadata": {},
   "outputs": [],
   "source": [
    "import json"
   ]
  },
  {
   "cell_type": "code",
   "execution_count": 3,
   "id": "eceacf3c-6192-4b99-97b9-e4a969961b66",
   "metadata": {},
   "outputs": [],
   "source": [
    "# sample json\n",
    "userJSON= '{\"first_name\":\"Kiah\",\"last_name\":\"Monpara\",\"age\":19}'"
   ]
  },
  {
   "cell_type": "code",
   "execution_count": 4,
   "id": "5dadcbca-51be-486f-86d6-7805c42f6227",
   "metadata": {},
   "outputs": [],
   "source": [
    "# PArse to dict\n",
    "user=json.loads(userJSON)"
   ]
  },
  {
   "cell_type": "code",
   "execution_count": 5,
   "id": "a17f28eb-45fb-4269-9f22-c15d0e5ea6b1",
   "metadata": {},
   "outputs": [
    {
     "name": "stdout",
     "output_type": "stream",
     "text": [
      "{'first_name': 'Kiah', 'last_name': 'Monpara', 'age': 19}\n"
     ]
    }
   ],
   "source": [
    "print(user)"
   ]
  },
  {
   "cell_type": "code",
   "execution_count": 6,
   "id": "a0d0807b-e4e1-460e-9ae9-d162d7dd9afb",
   "metadata": {},
   "outputs": [
    {
     "name": "stdout",
     "output_type": "stream",
     "text": [
      "Kiah\n"
     ]
    }
   ],
   "source": [
    "print(user['first_name'])"
   ]
  },
  {
   "cell_type": "code",
   "execution_count": 7,
   "id": "a45e9cd6-666a-43f4-a623-3dc9c2363db7",
   "metadata": {},
   "outputs": [],
   "source": [
    "car={'make':'Ford','model':'Mustang','year':1970}"
   ]
  },
  {
   "cell_type": "code",
   "execution_count": 8,
   "id": "dc95b0c6-74e9-474b-a6c7-8356aca8edae",
   "metadata": {},
   "outputs": [],
   "source": [
    "carJSON=json.dumps(car)"
   ]
  },
  {
   "cell_type": "code",
   "execution_count": 9,
   "id": "fa361fd1-0ec9-4da6-bcad-663ec09f4e26",
   "metadata": {},
   "outputs": [
    {
     "name": "stdout",
     "output_type": "stream",
     "text": [
      "{\"make\": \"Ford\", \"model\": \"Mustang\", \"year\": 1970}\n"
     ]
    }
   ],
   "source": [
    "print(carJSON)"
   ]
  },
  {
   "cell_type": "code",
   "execution_count": null,
   "id": "cf987f5a-9873-42db-8615-91d37f78cb9d",
   "metadata": {},
   "outputs": [],
   "source": []
  }
 ],
 "metadata": {
  "kernelspec": {
   "display_name": "Python 3 (ipykernel)",
   "language": "python",
   "name": "python3"
  },
  "language_info": {
   "codemirror_mode": {
    "name": "ipython",
    "version": 3
   },
   "file_extension": ".py",
   "mimetype": "text/x-python",
   "name": "python",
   "nbconvert_exporter": "python",
   "pygments_lexer": "ipython3",
   "version": "3.11.7"
  }
 },
 "nbformat": 4,
 "nbformat_minor": 5
}
