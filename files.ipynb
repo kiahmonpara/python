{
 "cells": [
  {
   "cell_type": "code",
   "execution_count": 18,
   "id": "59f7c802-d66b-4fa5-a5bf-5af048692ebf",
   "metadata": {},
   "outputs": [],
   "source": [
    "#FILES"
   ]
  },
  {
   "cell_type": "code",
   "execution_count": 19,
   "id": "e7c04228-b15f-4523-b584-ce3a3bc70ca6",
   "metadata": {},
   "outputs": [],
   "source": [
    "#open\n",
    "myFile=open('myfile.txt','w')"
   ]
  },
  {
   "cell_type": "code",
   "execution_count": 20,
   "id": "d699c95b-4ac5-4702-8e3a-62d409c4404d",
   "metadata": {},
   "outputs": [
    {
     "name": "stdout",
     "output_type": "stream",
     "text": [
      "Name: myfile.txt\n",
      "Is Closed: False\n",
      "Opening mode: w\n"
     ]
    }
   ],
   "source": [
    "#info\n",
    "print('Name:',myFile.name)\n",
    "print('Is Closed:',myFile.closed)\n",
    "print('Opening mode:',myFile.mode)"
   ]
  },
  {
   "cell_type": "code",
   "execution_count": 21,
   "id": "45335e2a-169a-4fc0-9682-44dbaa265ee1",
   "metadata": {},
   "outputs": [],
   "source": [
    "#Write\n",
    "myFile.write('Python ')\n",
    "myFile.write('Course ')\n",
    "myFile.close()"
   ]
  },
  {
   "cell_type": "code",
   "execution_count": 1,
   "id": "ee5146a0-cb46-4b53-94c1-ed43769fe3ab",
   "metadata": {},
   "outputs": [],
   "source": [
    "#append\n",
    "myFile=open('myfile.txt','a')\n",
    "myFile.write('trial')\n",
    "myFile.close()"
   ]
  },
  {
   "cell_type": "code",
   "execution_count": 2,
   "id": "f0e7c0f2-7b36-4e05-ba7a-4d078ef05ece",
   "metadata": {},
   "outputs": [
    {
     "name": "stdout",
     "output_type": "stream",
     "text": [
      "Python Course trial\n"
     ]
    }
   ],
   "source": [
    "#read\n",
    "myFile=open('myfile.txt','r')\n",
    "text=myFile.read()\n",
    "print(text)"
   ]
  },
  {
   "cell_type": "code",
   "execution_count": null,
   "id": "2d24af98-b304-44c7-ba86-61ad90634a88",
   "metadata": {},
   "outputs": [],
   "source": []
  }
 ],
 "metadata": {
  "kernelspec": {
   "display_name": "Python 3 (ipykernel)",
   "language": "python",
   "name": "python3"
  },
  "language_info": {
   "codemirror_mode": {
    "name": "ipython",
    "version": 3
   },
   "file_extension": ".py",
   "mimetype": "text/x-python",
   "name": "python",
   "nbconvert_exporter": "python",
   "pygments_lexer": "ipython3",
   "version": "3.11.7"
  }
 },
 "nbformat": 4,
 "nbformat_minor": 5
}
